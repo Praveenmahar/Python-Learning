{
 "cells": [
  {
   "cell_type": "code",
   "execution_count": 1,
   "metadata": {},
   "outputs": [
    {
     "name": "stdout",
     "output_type": "stream",
     "text": [
      "I am outside of function\n"
     ]
    }
   ],
   "source": [
    "# function is set of instructions\n",
    "# or set of code\n",
    "def function1():\n",
    "    print(\"I am from function\")\n",
    "print(\"I am outside of function\")    "
   ]
  },
  {
   "cell_type": "code",
   "execution_count": 3,
   "metadata": {},
   "outputs": [
    {
     "name": "stdout",
     "output_type": "stream",
     "text": [
      "I am from function\n"
     ]
    }
   ],
   "source": [
    "function1()"
   ]
  },
  {
   "cell_type": "code",
   "execution_count": 4,
   "metadata": {},
   "outputs": [
    {
     "name": "stdout",
     "output_type": "stream",
     "text": [
      "6\n"
     ]
    }
   ],
   "source": [
    "#a mapping\n",
    "def function2(x):\n",
    "    return x*2;\n",
    "a =  function2(3)\n",
    "print(a)"
   ]
  },
  {
   "cell_type": "code",
   "execution_count": 5,
   "metadata": {},
   "outputs": [
    {
     "name": "stdout",
     "output_type": "stream",
     "text": [
      "0\n"
     ]
    }
   ],
   "source": [
    "#a mapping\n",
    "def function2(x = 0):\n",
    "    return x*2;\n",
    "a =  function2()\n",
    "print(a)"
   ]
  },
  {
   "cell_type": "code",
   "execution_count": 6,
   "metadata": {},
   "outputs": [
    {
     "name": "stdout",
     "output_type": "stream",
     "text": [
      "8\n"
     ]
    }
   ],
   "source": [
    "a =  function2(4)\n",
    "print(a)"
   ]
  },
  {
   "cell_type": "code",
   "execution_count": 10,
   "metadata": {},
   "outputs": [
    {
     "name": "stdout",
     "output_type": "stream",
     "text": [
      "check for person 1\n",
      "Praveen is overweight\n",
      "check for person 2\n",
      "Praveen's brother is not overweight\n",
      "check for person 3\n",
      "Praveen's mother is overweight\n"
     ]
    }
   ],
   "source": [
    "#bmi calculator\n",
    "#person 1\n",
    "name1 = \"Praveen\"\n",
    "height_m1 = 1.76\n",
    "weight_kg1 = 86\n",
    "\n",
    "#person 2\n",
    "name2 = \"Praveen's brother\"\n",
    "height_m2 = 2\n",
    "weight_kg2 = 97\n",
    "\n",
    "\n",
    "#person 3\n",
    "name3 = \"Praveen's mother\"\n",
    "height_m3 = 1.50\n",
    "weight_kg3 = 65\n",
    "\n",
    "def bmi_calculator(name,height_m,weight_kg):\n",
    "    bmi = weight_kg/(height_m**2)\n",
    "    if bmi < 25:\n",
    "        return name + \" is not overweight\"\n",
    "    else:\n",
    "        return name + \" is overweight\"\n",
    "\n",
    "#check for person 1\n",
    "print(\"check for person 1\")\n",
    "print(bmi_calculator(name1,height_m1,weight_kg1))\n",
    "#check for person 2\n",
    "print(\"check for person 2\")\n",
    "print(bmi_calculator(name2,height_m2,weight_kg2))\n",
    "#check for person 3\n",
    "print(\"check for person 3\")\n",
    "print(bmi_calculator(name3,height_m3,weight_kg3))"
   ]
  },
  {
   "cell_type": "code",
   "execution_count": 11,
   "metadata": {},
   "outputs": [
    {
     "name": "stdout",
     "output_type": "stream",
     "text": [
      "3.2\n"
     ]
    }
   ],
   "source": [
    "#for task\n",
    "\n",
    "def convert(miles):\n",
    "    return 1.6 * miles;\n",
    "\n",
    "km = convert(2)\n",
    "\n",
    "print(km)\n"
   ]
  },
  {
   "cell_type": "code",
   "execution_count": null,
   "metadata": {},
   "outputs": [],
   "source": []
  }
 ],
 "metadata": {
  "kernelspec": {
   "display_name": "Python 3",
   "language": "python",
   "name": "python3"
  },
  "language_info": {
   "codemirror_mode": {
    "name": "ipython",
    "version": 3
   },
   "file_extension": ".py",
   "mimetype": "text/x-python",
   "name": "python",
   "nbconvert_exporter": "python",
   "pygments_lexer": "ipython3",
   "version": "3.7.3"
  }
 },
 "nbformat": 4,
 "nbformat_minor": 2
}
